{
 "cells": [
  {
   "cell_type": "markdown",
   "metadata": {},
   "source": [
    "We will be using a decision tree to make predictions about the Titanic data set from\n",
    "Kaggle. This data set provides information on the Titanic passengers and can be used to\n",
    "predict whether a passenger survived or not.\n",
    "\n",
    "You use only Pclass, Sex, Age, SibSp (Siblings aboard), Parch (Parents/children aboard),\n",
    "and Fare to predict whether a passenger survived."
   ]
  },
  {
   "cell_type": "markdown",
   "metadata": {},
   "source": [
    "### Importing Library"
   ]
  },
  {
   "cell_type": "code",
   "execution_count": 1,
   "metadata": {},
   "outputs": [
    {
     "name": "stderr",
     "output_type": "stream",
     "text": [
      "C:\\ProgramData\\Anaconda3\\lib\\site-packages\\sklearn\\cross_validation.py:41: DeprecationWarning: This module was deprecated in version 0.18 in favor of the model_selection module into which all the refactored classes and functions are moved. Also note that the interface of the new CV iterators are different from that of this module. This module will be removed in 0.20.\n",
      "  \"This module will be removed in 0.20.\", DeprecationWarning)\n"
     ]
    }
   ],
   "source": [
    "import numpy as np\n",
    "import pandas as pd\n",
    "import seaborn as sb\n",
    "import matplotlib.pyplot as plt\n",
    "import sklearn\n",
    "from pandas import Series, DataFrame\n",
    "from pylab import rcParams\n",
    "from sklearn import preprocessing\n",
    "from sklearn.linear_model import LogisticRegression\n",
    "from sklearn.preprocessing import StandardScaler\n",
    "from sklearn.tree import DecisionTreeClassifier\n",
    "from sklearn.cross_validation import train_test_split\n",
    "from sklearn import metrics\n",
    "from sklearn.metrics import classification_report\n",
    "from sklearn.cross_validation import KFold"
   ]
  },
  {
   "cell_type": "code",
   "execution_count": 2,
   "metadata": {},
   "outputs": [
    {
     "data": {
      "text/plain": [
       "Index(['PassengerId', 'Survived', 'Pclass', 'Name', 'Sex', 'Age', 'SibSp',\n",
       "       'Parch', 'Ticket', 'Fare', 'Cabin', 'Embarked'],\n",
       "      dtype='object')"
      ]
     },
     "execution_count": 2,
     "metadata": {},
     "output_type": "execute_result"
    }
   ],
   "source": [
    "titanic_ds=pd.read_csv(\"https://raw.githubusercontent.com/BigDataGal/Python-for-Data-Science/master/titanic-train.csv\")\n",
    "titanic_ds.columns"
   ]
  },
  {
   "cell_type": "code",
   "execution_count": 3,
   "metadata": {},
   "outputs": [
    {
     "data": {
      "text/html": [
       "<div>\n",
       "<style scoped>\n",
       "    .dataframe tbody tr th:only-of-type {\n",
       "        vertical-align: middle;\n",
       "    }\n",
       "\n",
       "    .dataframe tbody tr th {\n",
       "        vertical-align: top;\n",
       "    }\n",
       "\n",
       "    .dataframe thead th {\n",
       "        text-align: right;\n",
       "    }\n",
       "</style>\n",
       "<table border=\"1\" class=\"dataframe\">\n",
       "  <thead>\n",
       "    <tr style=\"text-align: right;\">\n",
       "      <th></th>\n",
       "      <th>PassengerId</th>\n",
       "      <th>Survived</th>\n",
       "      <th>Pclass</th>\n",
       "      <th>Name</th>\n",
       "      <th>Sex</th>\n",
       "      <th>Age</th>\n",
       "      <th>SibSp</th>\n",
       "      <th>Parch</th>\n",
       "      <th>Ticket</th>\n",
       "      <th>Fare</th>\n",
       "      <th>Cabin</th>\n",
       "      <th>Embarked</th>\n",
       "    </tr>\n",
       "  </thead>\n",
       "  <tbody>\n",
       "    <tr>\n",
       "      <th>0</th>\n",
       "      <td>1</td>\n",
       "      <td>0</td>\n",
       "      <td>3</td>\n",
       "      <td>Braund, Mr. Owen Harris</td>\n",
       "      <td>male</td>\n",
       "      <td>22.0</td>\n",
       "      <td>1</td>\n",
       "      <td>0</td>\n",
       "      <td>A/5 21171</td>\n",
       "      <td>7.2500</td>\n",
       "      <td>NaN</td>\n",
       "      <td>S</td>\n",
       "    </tr>\n",
       "    <tr>\n",
       "      <th>1</th>\n",
       "      <td>2</td>\n",
       "      <td>1</td>\n",
       "      <td>1</td>\n",
       "      <td>Cumings, Mrs. John Bradley (Florence Briggs Th...</td>\n",
       "      <td>female</td>\n",
       "      <td>38.0</td>\n",
       "      <td>1</td>\n",
       "      <td>0</td>\n",
       "      <td>PC 17599</td>\n",
       "      <td>71.2833</td>\n",
       "      <td>C85</td>\n",
       "      <td>C</td>\n",
       "    </tr>\n",
       "    <tr>\n",
       "      <th>2</th>\n",
       "      <td>3</td>\n",
       "      <td>1</td>\n",
       "      <td>3</td>\n",
       "      <td>Heikkinen, Miss. Laina</td>\n",
       "      <td>female</td>\n",
       "      <td>26.0</td>\n",
       "      <td>0</td>\n",
       "      <td>0</td>\n",
       "      <td>STON/O2. 3101282</td>\n",
       "      <td>7.9250</td>\n",
       "      <td>NaN</td>\n",
       "      <td>S</td>\n",
       "    </tr>\n",
       "    <tr>\n",
       "      <th>3</th>\n",
       "      <td>4</td>\n",
       "      <td>1</td>\n",
       "      <td>1</td>\n",
       "      <td>Futrelle, Mrs. Jacques Heath (Lily May Peel)</td>\n",
       "      <td>female</td>\n",
       "      <td>35.0</td>\n",
       "      <td>1</td>\n",
       "      <td>0</td>\n",
       "      <td>113803</td>\n",
       "      <td>53.1000</td>\n",
       "      <td>C123</td>\n",
       "      <td>S</td>\n",
       "    </tr>\n",
       "    <tr>\n",
       "      <th>4</th>\n",
       "      <td>5</td>\n",
       "      <td>0</td>\n",
       "      <td>3</td>\n",
       "      <td>Allen, Mr. William Henry</td>\n",
       "      <td>male</td>\n",
       "      <td>35.0</td>\n",
       "      <td>0</td>\n",
       "      <td>0</td>\n",
       "      <td>373450</td>\n",
       "      <td>8.0500</td>\n",
       "      <td>NaN</td>\n",
       "      <td>S</td>\n",
       "    </tr>\n",
       "  </tbody>\n",
       "</table>\n",
       "</div>"
      ],
      "text/plain": [
       "   PassengerId  Survived  Pclass  \\\n",
       "0            1         0       3   \n",
       "1            2         1       1   \n",
       "2            3         1       3   \n",
       "3            4         1       1   \n",
       "4            5         0       3   \n",
       "\n",
       "                                                Name     Sex   Age  SibSp  \\\n",
       "0                            Braund, Mr. Owen Harris    male  22.0      1   \n",
       "1  Cumings, Mrs. John Bradley (Florence Briggs Th...  female  38.0      1   \n",
       "2                             Heikkinen, Miss. Laina  female  26.0      0   \n",
       "3       Futrelle, Mrs. Jacques Heath (Lily May Peel)  female  35.0      1   \n",
       "4                           Allen, Mr. William Henry    male  35.0      0   \n",
       "\n",
       "   Parch            Ticket     Fare Cabin Embarked  \n",
       "0      0         A/5 21171   7.2500   NaN        S  \n",
       "1      0          PC 17599  71.2833   C85        C  \n",
       "2      0  STON/O2. 3101282   7.9250   NaN        S  \n",
       "3      0            113803  53.1000  C123        S  \n",
       "4      0            373450   8.0500   NaN        S  "
      ]
     },
     "execution_count": 3,
     "metadata": {},
     "output_type": "execute_result"
    }
   ],
   "source": [
    "titanic_ds.head(5)"
   ]
  },
  {
   "cell_type": "code",
   "execution_count": 4,
   "metadata": {},
   "outputs": [
    {
     "data": {
      "text/html": [
       "<div>\n",
       "<style scoped>\n",
       "    .dataframe tbody tr th:only-of-type {\n",
       "        vertical-align: middle;\n",
       "    }\n",
       "\n",
       "    .dataframe tbody tr th {\n",
       "        vertical-align: top;\n",
       "    }\n",
       "\n",
       "    .dataframe thead th {\n",
       "        text-align: right;\n",
       "    }\n",
       "</style>\n",
       "<table border=\"1\" class=\"dataframe\">\n",
       "  <thead>\n",
       "    <tr style=\"text-align: right;\">\n",
       "      <th></th>\n",
       "      <th>PassengerId</th>\n",
       "      <th>Survived</th>\n",
       "      <th>Pclass</th>\n",
       "      <th>Age</th>\n",
       "      <th>SibSp</th>\n",
       "      <th>Parch</th>\n",
       "      <th>Fare</th>\n",
       "    </tr>\n",
       "  </thead>\n",
       "  <tbody>\n",
       "    <tr>\n",
       "      <th>count</th>\n",
       "      <td>891.000000</td>\n",
       "      <td>891.000000</td>\n",
       "      <td>891.000000</td>\n",
       "      <td>714.000000</td>\n",
       "      <td>891.000000</td>\n",
       "      <td>891.000000</td>\n",
       "      <td>891.000000</td>\n",
       "    </tr>\n",
       "    <tr>\n",
       "      <th>mean</th>\n",
       "      <td>446.000000</td>\n",
       "      <td>0.383838</td>\n",
       "      <td>2.308642</td>\n",
       "      <td>29.699118</td>\n",
       "      <td>0.523008</td>\n",
       "      <td>0.381594</td>\n",
       "      <td>32.204208</td>\n",
       "    </tr>\n",
       "    <tr>\n",
       "      <th>std</th>\n",
       "      <td>257.353842</td>\n",
       "      <td>0.486592</td>\n",
       "      <td>0.836071</td>\n",
       "      <td>14.526497</td>\n",
       "      <td>1.102743</td>\n",
       "      <td>0.806057</td>\n",
       "      <td>49.693429</td>\n",
       "    </tr>\n",
       "    <tr>\n",
       "      <th>min</th>\n",
       "      <td>1.000000</td>\n",
       "      <td>0.000000</td>\n",
       "      <td>1.000000</td>\n",
       "      <td>0.420000</td>\n",
       "      <td>0.000000</td>\n",
       "      <td>0.000000</td>\n",
       "      <td>0.000000</td>\n",
       "    </tr>\n",
       "    <tr>\n",
       "      <th>25%</th>\n",
       "      <td>223.500000</td>\n",
       "      <td>0.000000</td>\n",
       "      <td>2.000000</td>\n",
       "      <td>20.125000</td>\n",
       "      <td>0.000000</td>\n",
       "      <td>0.000000</td>\n",
       "      <td>7.910400</td>\n",
       "    </tr>\n",
       "    <tr>\n",
       "      <th>50%</th>\n",
       "      <td>446.000000</td>\n",
       "      <td>0.000000</td>\n",
       "      <td>3.000000</td>\n",
       "      <td>28.000000</td>\n",
       "      <td>0.000000</td>\n",
       "      <td>0.000000</td>\n",
       "      <td>14.454200</td>\n",
       "    </tr>\n",
       "    <tr>\n",
       "      <th>75%</th>\n",
       "      <td>668.500000</td>\n",
       "      <td>1.000000</td>\n",
       "      <td>3.000000</td>\n",
       "      <td>38.000000</td>\n",
       "      <td>1.000000</td>\n",
       "      <td>0.000000</td>\n",
       "      <td>31.000000</td>\n",
       "    </tr>\n",
       "    <tr>\n",
       "      <th>max</th>\n",
       "      <td>891.000000</td>\n",
       "      <td>1.000000</td>\n",
       "      <td>3.000000</td>\n",
       "      <td>80.000000</td>\n",
       "      <td>8.000000</td>\n",
       "      <td>6.000000</td>\n",
       "      <td>512.329200</td>\n",
       "    </tr>\n",
       "  </tbody>\n",
       "</table>\n",
       "</div>"
      ],
      "text/plain": [
       "       PassengerId    Survived      Pclass         Age       SibSp  \\\n",
       "count   891.000000  891.000000  891.000000  714.000000  891.000000   \n",
       "mean    446.000000    0.383838    2.308642   29.699118    0.523008   \n",
       "std     257.353842    0.486592    0.836071   14.526497    1.102743   \n",
       "min       1.000000    0.000000    1.000000    0.420000    0.000000   \n",
       "25%     223.500000    0.000000    2.000000   20.125000    0.000000   \n",
       "50%     446.000000    0.000000    3.000000   28.000000    0.000000   \n",
       "75%     668.500000    1.000000    3.000000   38.000000    1.000000   \n",
       "max     891.000000    1.000000    3.000000   80.000000    8.000000   \n",
       "\n",
       "            Parch        Fare  \n",
       "count  891.000000  891.000000  \n",
       "mean     0.381594   32.204208  \n",
       "std      0.806057   49.693429  \n",
       "min      0.000000    0.000000  \n",
       "25%      0.000000    7.910400  \n",
       "50%      0.000000   14.454200  \n",
       "75%      0.000000   31.000000  \n",
       "max      6.000000  512.329200  "
      ]
     },
     "execution_count": 4,
     "metadata": {},
     "output_type": "execute_result"
    }
   ],
   "source": [
    "titanic_ds.describe()"
   ]
  },
  {
   "cell_type": "code",
   "execution_count": 5,
   "metadata": {},
   "outputs": [
    {
     "name": "stdout",
     "output_type": "stream",
     "text": [
      "<class 'pandas.core.frame.DataFrame'>\n",
      "RangeIndex: 891 entries, 0 to 890\n",
      "Data columns (total 12 columns):\n",
      "PassengerId    891 non-null int64\n",
      "Survived       891 non-null int64\n",
      "Pclass         891 non-null int64\n",
      "Name           891 non-null object\n",
      "Sex            891 non-null object\n",
      "Age            714 non-null float64\n",
      "SibSp          891 non-null int64\n",
      "Parch          891 non-null int64\n",
      "Ticket         891 non-null object\n",
      "Fare           891 non-null float64\n",
      "Cabin          204 non-null object\n",
      "Embarked       889 non-null object\n",
      "dtypes: float64(2), int64(5), object(5)\n",
      "memory usage: 83.6+ KB\n"
     ]
    }
   ],
   "source": [
    "titanic_ds.info()"
   ]
  },
  {
   "cell_type": "markdown",
   "metadata": {},
   "source": [
    "#### As mentioned we wil be using following attribute to predict survived or not\n",
    "\n",
    "Pclass\n",
    "Sex\n",
    "Age\n",
    "SibSp\n",
    "Parch"
   ]
  },
  {
   "cell_type": "code",
   "execution_count": 6,
   "metadata": {},
   "outputs": [],
   "source": [
    "selected_features=titanic_ds[['Pclass','Sex','Age','SibSp','Parch','Fare','Survived']]"
   ]
  },
  {
   "cell_type": "code",
   "execution_count": 7,
   "metadata": {},
   "outputs": [
    {
     "data": {
      "text/html": [
       "<div>\n",
       "<style scoped>\n",
       "    .dataframe tbody tr th:only-of-type {\n",
       "        vertical-align: middle;\n",
       "    }\n",
       "\n",
       "    .dataframe tbody tr th {\n",
       "        vertical-align: top;\n",
       "    }\n",
       "\n",
       "    .dataframe thead th {\n",
       "        text-align: right;\n",
       "    }\n",
       "</style>\n",
       "<table border=\"1\" class=\"dataframe\">\n",
       "  <thead>\n",
       "    <tr style=\"text-align: right;\">\n",
       "      <th></th>\n",
       "      <th>Pclass</th>\n",
       "      <th>Sex</th>\n",
       "      <th>Age</th>\n",
       "      <th>SibSp</th>\n",
       "      <th>Parch</th>\n",
       "      <th>Fare</th>\n",
       "      <th>Survived</th>\n",
       "    </tr>\n",
       "  </thead>\n",
       "  <tbody>\n",
       "    <tr>\n",
       "      <th>0</th>\n",
       "      <td>3</td>\n",
       "      <td>male</td>\n",
       "      <td>22.0</td>\n",
       "      <td>1</td>\n",
       "      <td>0</td>\n",
       "      <td>7.2500</td>\n",
       "      <td>0</td>\n",
       "    </tr>\n",
       "    <tr>\n",
       "      <th>1</th>\n",
       "      <td>1</td>\n",
       "      <td>female</td>\n",
       "      <td>38.0</td>\n",
       "      <td>1</td>\n",
       "      <td>0</td>\n",
       "      <td>71.2833</td>\n",
       "      <td>1</td>\n",
       "    </tr>\n",
       "    <tr>\n",
       "      <th>2</th>\n",
       "      <td>3</td>\n",
       "      <td>female</td>\n",
       "      <td>26.0</td>\n",
       "      <td>0</td>\n",
       "      <td>0</td>\n",
       "      <td>7.9250</td>\n",
       "      <td>1</td>\n",
       "    </tr>\n",
       "    <tr>\n",
       "      <th>3</th>\n",
       "      <td>1</td>\n",
       "      <td>female</td>\n",
       "      <td>35.0</td>\n",
       "      <td>1</td>\n",
       "      <td>0</td>\n",
       "      <td>53.1000</td>\n",
       "      <td>1</td>\n",
       "    </tr>\n",
       "    <tr>\n",
       "      <th>4</th>\n",
       "      <td>3</td>\n",
       "      <td>male</td>\n",
       "      <td>35.0</td>\n",
       "      <td>0</td>\n",
       "      <td>0</td>\n",
       "      <td>8.0500</td>\n",
       "      <td>0</td>\n",
       "    </tr>\n",
       "  </tbody>\n",
       "</table>\n",
       "</div>"
      ],
      "text/plain": [
       "   Pclass     Sex   Age  SibSp  Parch     Fare  Survived\n",
       "0       3    male  22.0      1      0   7.2500         0\n",
       "1       1  female  38.0      1      0  71.2833         1\n",
       "2       3  female  26.0      0      0   7.9250         1\n",
       "3       1  female  35.0      1      0  53.1000         1\n",
       "4       3    male  35.0      0      0   8.0500         0"
      ]
     },
     "execution_count": 7,
     "metadata": {},
     "output_type": "execute_result"
    }
   ],
   "source": [
    "selected_features.head()"
   ]
  },
  {
   "cell_type": "markdown",
   "metadata": {},
   "source": [
    "### Data Preprocessing"
   ]
  },
  {
   "cell_type": "code",
   "execution_count": 8,
   "metadata": {},
   "outputs": [
    {
     "data": {
      "text/plain": [
       "177"
      ]
     },
     "execution_count": 8,
     "metadata": {},
     "output_type": "execute_result"
    }
   ],
   "source": [
    "#There are 177 records where there is not value for age\n",
    "selected_features['Age'].isnull().sum()"
   ]
  },
  {
   "cell_type": "code",
   "execution_count": 9,
   "metadata": {},
   "outputs": [
    {
     "name": "stderr",
     "output_type": "stream",
     "text": [
      "C:\\ProgramData\\Anaconda3\\lib\\site-packages\\ipykernel_launcher.py:2: SettingWithCopyWarning: \n",
      "A value is trying to be set on a copy of a slice from a DataFrame.\n",
      "Try using .loc[row_indexer,col_indexer] = value instead\n",
      "\n",
      "See the caveats in the documentation: http://pandas.pydata.org/pandas-docs/stable/indexing.html#indexing-view-versus-copy\n",
      "  \n"
     ]
    }
   ],
   "source": [
    "# filling the null values with median of age\n",
    "selected_features['Age']=selected_features['Age'].fillna(selected_features['Age'].median())"
   ]
  },
  {
   "cell_type": "code",
   "execution_count": 10,
   "metadata": {},
   "outputs": [
    {
     "data": {
      "text/plain": [
       "0"
      ]
     },
     "execution_count": 10,
     "metadata": {},
     "output_type": "execute_result"
    }
   ],
   "source": [
    "#now there is no null values. Again trying to get a info of the dataset\n",
    "selected_features['Age'].isnull().sum()"
   ]
  },
  {
   "cell_type": "code",
   "execution_count": 11,
   "metadata": {},
   "outputs": [
    {
     "name": "stderr",
     "output_type": "stream",
     "text": [
      "C:\\ProgramData\\Anaconda3\\lib\\site-packages\\pandas\\core\\generic.py:3643: SettingWithCopyWarning: \n",
      "A value is trying to be set on a copy of a slice from a DataFrame.\n",
      "Try using .loc[row_indexer,col_indexer] = value instead\n",
      "\n",
      "See the caveats in the documentation: http://pandas.pydata.org/pandas-docs/stable/indexing.html#indexing-view-versus-copy\n",
      "  self[name] = value\n"
     ]
    },
    {
     "data": {
      "text/plain": [
       "array([1, 0], dtype=int64)"
      ]
     },
     "execution_count": 11,
     "metadata": {},
     "output_type": "execute_result"
    }
   ],
   "source": [
    "#Converting  Categorical Values into Numeric Values\n",
    "selected_features.Sex = selected_features.Sex.map({'female':0,'male':1})\n",
    "selected_features.Sex.unique()"
   ]
  },
  {
   "cell_type": "code",
   "execution_count": 12,
   "metadata": {},
   "outputs": [
    {
     "name": "stderr",
     "output_type": "stream",
     "text": [
      "C:\\ProgramData\\Anaconda3\\lib\\site-packages\\pandas\\core\\generic.py:3643: SettingWithCopyWarning: \n",
      "A value is trying to be set on a copy of a slice from a DataFrame.\n",
      "Try using .loc[row_indexer,col_indexer] = value instead\n",
      "\n",
      "See the caveats in the documentation: http://pandas.pydata.org/pandas-docs/stable/indexing.html#indexing-view-versus-copy\n",
      "  self[name] = value\n"
     ]
    },
    {
     "data": {
      "text/plain": [
       "array([-0.56573646,  0.66386103, -0.25833709,  0.4333115 , -0.1046374 ,\n",
       "        1.89345853, -2.10273333, -0.18148724, -1.18053521, -1.94903364,\n",
       "        2.2008579 , -0.71943615,  0.74071088,  1.97030837,  0.12591213,\n",
       "        0.35646166, -1.10368536, -1.64163427, -0.79628599,  0.81756072,\n",
       "        2.81565665,  0.97126041, -0.6425863 , -0.87313583, -2.02588348,\n",
       "       -1.71848411,  1.50920931, -0.02778756,  2.7388068 , -0.06621248,\n",
       "       -1.8721838 , -1.41108474,  1.20180994, -0.94998568,  0.20276197,\n",
       "       -1.02683552, -0.33518693, -2.19264764,  0.04906229,  0.27961182,\n",
       "       -0.48888662, -0.41203677,  1.27865978,  2.27770774,  3.19990586,\n",
       "        0.58701119,  1.35550962, -1.14211029,  3.16148094,  0.24118689,\n",
       "       -1.33423489, -1.56478442,  0.54858627,  1.662909  ,  2.00873329,\n",
       "        0.85598564,  1.12496009, -2.17958317,  2.43140743,  2.04715821,\n",
       "        1.58605915,  0.51016135,  1.24023486, -0.68101123,  2.50825727,\n",
       "        0.89441056,  1.73975884,  2.58510712, -0.4504617 , -2.18573116,\n",
       "        1.04811025,  2.35455759, -1.48793458,  2.66195696, -1.25738505,\n",
       "        1.43235947, -2.19879563,  1.81660868,  2.12400806,  3.89155445,\n",
       "        3.12305602, -0.37361185, -1.79533395, -2.20494362,  0.08748721,\n",
       "       -2.22415608,  0.39488658,  3.43045539])"
      ]
     },
     "execution_count": 12,
     "metadata": {},
     "output_type": "execute_result"
    }
   ],
   "source": [
    "#Normalizing Age and Fare\n",
    "age_scaler = StandardScaler()\n",
    "age_scaler.fit(pd.DataFrame(selected_features['Age']))\n",
    "selected_features.Age = age_scaler.transform(selected_features[['Age']])\n",
    "selected_features.Age.unique()"
   ]
  },
  {
   "cell_type": "code",
   "execution_count": 20,
   "metadata": {},
   "outputs": [
    {
     "name": "stderr",
     "output_type": "stream",
     "text": [
      "C:\\ProgramData\\Anaconda3\\lib\\site-packages\\ipykernel_launcher.py:3: SettingWithCopyWarning: \n",
      "A value is trying to be set on a copy of a slice from a DataFrame.\n",
      "Try using .loc[row_indexer,col_indexer] = value instead\n",
      "\n",
      "See the caveats in the documentation: http://pandas.pydata.org/pandas-docs/stable/indexing.html#indexing-view-versus-copy\n",
      "  This is separate from the ipykernel package so we can avoid doing imports until\n"
     ]
    },
    {
     "data": {
      "text/plain": [
       "array([-5.02445171e-01,  7.86845294e-01, -4.88854258e-01,  4.20730236e-01,\n",
       "       -4.86337422e-01, -4.78116429e-01,  3.95813561e-01, -2.24083121e-01,\n",
       "       -4.24256141e-01, -4.29555021e-02, -3.12172378e-01, -1.13845709e-01,\n",
       "       -1.87093118e-02, -4.90279793e-01, -3.26266659e-01, -6.19988892e-02,\n",
       "       -3.86670720e-01, -2.85997284e-01, -5.02948539e-01, -1.24919787e-01,\n",
       "       -4.86756223e-01,  6.63597416e-02, -1.64441595e-02,  4.64700108e+00,\n",
       "       -4.89776426e-01, -4.89442190e-01, -9.02720170e-02,  2.30172882e+00,\n",
       "       -4.92377828e-01, -4.37007438e-01,  1.00606170e+00,  3.98582080e-01,\n",
       "       -5.02863973e-01, -4.22073541e-01, -4.57645492e-01, -2.25593223e-01,\n",
       "        1.88762532e-01, -3.36334002e-01, -2.11917743e-01, -2.90024222e-01,\n",
       "        1.50673744e-01, -4.91371093e-01,  8.96496787e-01,  5.99510151e-01,\n",
       "       -8.96840841e-02,  2.95895176e-01,  9.62353321e-01,  1.03232136e+00,\n",
       "       -8.66638810e-02, -3.41452240e-01, -4.84156835e-01, -4.74004926e-01,\n",
       "        8.31477855e-01, -3.57390858e-01,  4.89103607e-01, -4.94391297e-01,\n",
       "       -6.45157251e-02, -3.97241431e-01, -4.67209469e-01, -4.57142125e-01,\n",
       "       -4.91622777e-01,  2.99922113e-01, -3.29286862e-01,  4.37082185e-02,\n",
       "        5.83317835e-01, -2.34150465e-01,  4.93298232e-02,  6.27277898e-01,\n",
       "       -1.85323848e-01,  9.07737982e-01, -4.74172044e-01, -4.91874461e-01,\n",
       "       -1.62168958e-01, -4.50598352e-01, -3.57308306e-01,  4.33533223e+00,\n",
       "       -5.04625758e-01, -1.98244277e-01, -5.07982210e-01, -5.06472109e-01,\n",
       "       -3.56468689e-01, -3.45479177e-01, -1.19215630e-01, -4.62846282e-01,\n",
       "        9.46245572e-01, -5.12512515e-01, -4.16872751e-01,  9.15281006e-02,\n",
       "       -4.91455659e-01, -3.96234697e-01,  6.92548513e-01, -5.01186753e-01,\n",
       "        5.87429338e-01, -4.92714077e-01,  7.51945840e-01, -3.24253190e-01,\n",
       "       -3.31300330e-01, -2.35157199e-01,  4.58986142e-01, -1.26429888e-01,\n",
       "        2.60903672e-02, -3.03713226e-02, -1.35657615e-01, -7.03044477e-02,\n",
       "       -6.48421654e-01, -3.45394611e-01,  1.36831147e-01, -2.04955168e-01,\n",
       "        3.58312706e-01, -4.79205715e-01, -5.17630753e-01, -4.37762489e-01,\n",
       "       -2.70141218e-01, -2.42463508e-02,  1.63233504e+00, -1.04785100e-01,\n",
       "        8.87687861e-01,  1.16370019e+00, -4.60162328e-01, -3.76603377e-01,\n",
       "       -4.96404765e-01, -1.19886115e-01, -4.01268368e-01, -5.04962007e-01,\n",
       "        4.09740724e-01, -2.41449289e-01,  1.09322879e+00,  9.66716653e+00,\n",
       "        9.55306181e-01,  2.44149778e+00,  2.08251241e+00, -2.55795253e-01,\n",
       "       -5.04214441e-02,  9.21244331e-01, -2.40694238e-01,  9.39198431e-01,\n",
       "        1.18542955e+00, -3.89187556e-01, -4.70229672e-01,  2.40299019e+00,\n",
       "       -3.43136943e-02, -1.80290176e-01, -3.99758267e-01,  1.58417891e+00,\n",
       "        1.54424578e+00, -1.65189161e-01,  4.97829980e-01,  1.02594470e+00,\n",
       "        4.63441690e+00, -3.66536033e-01,  2.67111778e+00,  2.05969377e+00,\n",
       "       -5.22831542e-01,  5.18971402e-01, -7.45830687e-02,  2.04257929e+00,\n",
       "       -3.28280127e-01, -4.62679164e-01,  5.62923980e-02,  8.66713557e-01,\n",
       "        7.46912168e-01,  4.67879633e-01,  3.61006469e+00, -5.67631221e-01,\n",
       "        3.93272305e+00, -3.31467448e-01, -4.92796629e-01, -4.06805407e-01,\n",
       "        1.76774081e+00, -3.93717861e-01, -2.70896269e-01, -5.10331928e-01,\n",
       "        5.95568003e-03, -4.89860992e-01, -3.58482158e-01,  4.77107360e-01,\n",
       "       -4.85079004e-01,  9.99769611e-01, -2.60661807e-01, -2.46398395e-01,\n",
       "        1.14566354e+00,  1.26763803e-01, -4.92881195e-01, -3.70730088e-01,\n",
       "       -4.50346668e-01, -5.06556675e-01, -4.96992698e-01, -4.01016685e-01,\n",
       "       -4.55380340e-01,  3.48329928e-01,  9.27453868e-01, -3.44387877e-01,\n",
       "       -4.94810098e-01, -1.94887825e-01, -1.19131064e-01,  5.47578765e-01,\n",
       "       -4.97496065e-01,  3.65765123e-02,  1.23417160e+00,  3.81703316e+00,\n",
       "        1.49441243e+00,  3.48245362e-01,  7.81141137e-01, -3.69304552e-01,\n",
       "       -4.90783161e-01,  1.48911959e-01, -2.98078096e-01,  3.88095935e-01,\n",
       "       -1.17117595e-01, -4.43810379e-02,  1.59482670e-01, -4.72998191e-01,\n",
       "       -3.46401346e-01,  1.60230236e-02,  2.05289083e-01, -3.35327268e-01,\n",
       "        6.60333014e-01,  2.34754408e-03, -5.06387543e-01, -4.78619796e-01,\n",
       "       -1.33225345e-01, -4.50262103e-01, -4.84575637e-01, -4.43635777e-01,\n",
       "        3.60679280e+00,  4.99255516e-01, -3.78280596e-01, -4.92544946e-01,\n",
       "       -4.57478375e-01, -4.92629511e-01, -4.80045332e-01, -1.76263239e-01,\n",
       "       -1.26345323e-01, -4.73586124e-01, -4.76940563e-01, -4.89609308e-01,\n",
       "        9.66463381e-02, -5.18552921e-01, -5.08485578e-01, -4.81303750e-01,\n",
       "       -5.18804605e-01,  1.44885022e-01, -3.64355446e-01, -3.69389118e-01,\n",
       "        3.68295484e-01, -5.47748218e-01, -4.50179550e-01, -4.36671189e-01])"
      ]
     },
     "execution_count": 20,
     "metadata": {},
     "output_type": "execute_result"
    }
   ],
   "source": [
    "fare_scaler = StandardScaler()\n",
    "fare_scaler.fit(pd.DataFrame(selected_features['Fare']))\n",
    "selected_features['Fare'] = fare_scaler.transform(selected_features[['Fare']])\n",
    "selected_features['Fare'].unique()"
   ]
  },
  {
   "cell_type": "code",
   "execution_count": 14,
   "metadata": {},
   "outputs": [
    {
     "name": "stdout",
     "output_type": "stream",
     "text": [
      "<class 'pandas.core.frame.DataFrame'>\n",
      "RangeIndex: 891 entries, 0 to 890\n",
      "Data columns (total 7 columns):\n",
      "Pclass      891 non-null int64\n",
      "Sex         891 non-null int64\n",
      "Age         891 non-null float64\n",
      "SibSp       891 non-null int64\n",
      "Parch       891 non-null int64\n",
      "Fare        891 non-null float64\n",
      "Survived    891 non-null int64\n",
      "dtypes: float64(2), int64(5)\n",
      "memory usage: 48.8 KB\n"
     ]
    }
   ],
   "source": [
    "selected_features.info()"
   ]
  },
  {
   "cell_type": "markdown",
   "metadata": {},
   "source": [
    "### Independent and target variable splitting"
   ]
  },
  {
   "cell_type": "code",
   "execution_count": 15,
   "metadata": {},
   "outputs": [],
   "source": [
    "# Independent and target variable splitting\n",
    "X=selected_features.drop(['Survived'],axis=1) # Independent Variables\n",
    "Y=selected_features.drop(['Pclass','Sex','Age','SibSp','Parch','Fare'],axis=1)  # Dependent Variable"
   ]
  },
  {
   "cell_type": "code",
   "execution_count": 16,
   "metadata": {},
   "outputs": [
    {
     "name": "stdout",
     "output_type": "stream",
     "text": [
      "X_train Shape :  (712, 6)\n",
      "X_test Shape :  (179, 6)\n",
      "Y_train Shape :  (712, 1)\n",
      "Y_test.shape :  (179, 1)\n"
     ]
    }
   ],
   "source": [
    "# Train and test data splitting\n",
    "\n",
    "X_train,X_test,Y_train,Y_test = train_test_split(X,Y,test_size=0.20,random_state=101)\n",
    "print(\"X_train Shape : \",X_train.shape)\n",
    "print(\"X_test Shape : \",X_test.shape)\n",
    "print(\"Y_train Shape : \",Y_train.shape)\n",
    "print(\"Y_test.shape : \",Y_test.shape)"
   ]
  },
  {
   "cell_type": "markdown",
   "metadata": {},
   "source": [
    "### Applying Decision Tree Classifier Model on the dataset"
   ]
  },
  {
   "cell_type": "code",
   "execution_count": 17,
   "metadata": {},
   "outputs": [],
   "source": [
    "\n",
    "decision_tree = DecisionTreeClassifier() \n",
    "decision_tree.fit(X_train, Y_train)\n",
    "Y_pred = decision_tree.predict(X_test)\n",
    "acc_decision_tree = round(decision_tree.score(X_test, Y_test) * 100, 2)"
   ]
  },
  {
   "cell_type": "code",
   "execution_count": 18,
   "metadata": {},
   "outputs": [
    {
     "name": "stdout",
     "output_type": "stream",
     "text": [
      "Decision Tree Accuracy Score:  78.21\n"
     ]
    }
   ],
   "source": [
    "print(\"Decision Tree Accuracy Score: \", acc_decision_tree)"
   ]
  },
  {
   "cell_type": "markdown",
   "metadata": {},
   "source": [
    "### Decision Tree with K fold cross validation"
   ]
  },
  {
   "cell_type": "code",
   "execution_count": 19,
   "metadata": {},
   "outputs": [
    {
     "name": "stdout",
     "output_type": "stream",
     "text": [
      "Decision Tree Classifier Accuracy per fold:  [0.7777777777777778, 0.7191011235955056, 0.8314606741573034, 0.7640449438202247, 0.7865168539325843, 0.7752808988764045, 0.7640449438202247, 0.7752808988764045, 0.7415730337078652, 0.7752808988764045] \n",
      "\n",
      "Decision Tree Classifier Average accuracy:  0.77103620474407\n"
     ]
    }
   ],
   "source": [
    "\n",
    "kfold = KFold(len(X),n_folds=10,shuffle=True,random_state=0)\n",
    "#If None, then nodes are expanded until all leaves are pure or until all leaves contain less than min_samples_split samples\n",
    "dt = DecisionTreeClassifier()\n",
    "fold_accuracy = []\n",
    "for train_fold, valid_fold in kfold:\n",
    "    train = X.iloc[train_fold] # Extract training data with cv indices\n",
    "    valid = X.iloc[valid_fold] # Extract validation data with cv indices\n",
    "    \n",
    "    train_y = Y.iloc[train_fold]\n",
    "    valid_y = Y.iloc[valid_fold]\n",
    "    \n",
    "    model = dt.fit(train,train_y)\n",
    "    valid_acc = model.score(X = valid, y = valid_y)\n",
    "    fold_accuracy.append(valid_acc)    \n",
    "\n",
    "print(\"Decision Tree Classifier Accuracy per fold: \", fold_accuracy, \"\\n\")\n",
    "print(\"Decision Tree Classifier Average accuracy: \", sum(fold_accuracy)/len(fold_accuracy))"
   ]
  },
  {
   "cell_type": "code",
   "execution_count": null,
   "metadata": {},
   "outputs": [],
   "source": []
  }
 ],
 "metadata": {
  "kernelspec": {
   "display_name": "Python 3",
   "language": "python",
   "name": "python3"
  },
  "language_info": {
   "codemirror_mode": {
    "name": "ipython",
    "version": 3
   },
   "file_extension": ".py",
   "mimetype": "text/x-python",
   "name": "python",
   "nbconvert_exporter": "python",
   "pygments_lexer": "ipython3",
   "version": "3.6.4"
  }
 },
 "nbformat": 4,
 "nbformat_minor": 2
}
